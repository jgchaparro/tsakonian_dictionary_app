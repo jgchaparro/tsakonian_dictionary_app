{
 "cells": [
  {
   "cell_type": "code",
   "execution_count": 15,
   "metadata": {},
   "outputs": [
    {
     "ename": "ValueError",
     "evalue": "cutoff must be in [0.0, 1.0]: 2",
     "output_type": "error",
     "traceback": [
      "\u001b[1;31m---------------------------------------------------------------------------\u001b[0m",
      "\u001b[1;31mValueError\u001b[0m                                Traceback (most recent call last)",
      "Cell \u001b[1;32mIn[15], line 10\u001b[0m\n\u001b[0;32m      7\u001b[0m user_input \u001b[38;5;241m=\u001b[39m \u001b[38;5;124m\"\u001b[39m\u001b[38;5;124mapple\u001b[39m\u001b[38;5;124m\"\u001b[39m\n\u001b[0;32m      9\u001b[0m \u001b[38;5;66;03m# Find the closest matches using Levenshtein distance (number of edits)\u001b[39;00m\n\u001b[1;32m---> 10\u001b[0m similar_words \u001b[38;5;241m=\u001b[39m \u001b[43mget_close_matches\u001b[49m\u001b[43m(\u001b[49m\u001b[43muser_input\u001b[49m\u001b[43m,\u001b[49m\u001b[43m \u001b[49m\u001b[38;5;66;43;03m# Input string \u001b[39;49;00m\n\u001b[0;32m     11\u001b[0m \u001b[43m                                  \u001b[49m\u001b[43mwords\u001b[49m\u001b[43m,\u001b[49m\u001b[43m \u001b[49m\u001b[38;5;66;43;03m# List of strings to compare against\u001b[39;49;00m\n\u001b[0;32m     12\u001b[0m \u001b[43m                                  \u001b[49m\u001b[43mn\u001b[49m\u001b[38;5;241;43m=\u001b[39;49m\u001b[38;5;241;43m10\u001b[39;49m\u001b[43m,\u001b[49m\u001b[43m \u001b[49m\u001b[38;5;66;43;03m# Get top 10 closest matches\u001b[39;49;00m\n\u001b[0;32m     13\u001b[0m \u001b[43m                                  \u001b[49m\u001b[43mcutoff\u001b[49m\u001b[38;5;241;43m=\u001b[39;49m\u001b[38;5;241;43m2\u001b[39;49m\u001b[43m)\u001b[49m  \u001b[38;5;66;03m# Return all matches with distance <= 1\u001b[39;00m\n\u001b[0;32m     15\u001b[0m \u001b[38;5;66;03m# Print the most similar word\u001b[39;00m\n\u001b[0;32m     16\u001b[0m \u001b[38;5;28;01mif\u001b[39;00m similar_words:\n",
      "File \u001b[1;32m~\\AppData\\Local\\Programs\\Python\\Python312\\Lib\\difflib.py:698\u001b[0m, in \u001b[0;36mget_close_matches\u001b[1;34m(word, possibilities, n, cutoff)\u001b[0m\n\u001b[0;32m    696\u001b[0m     \u001b[38;5;28;01mraise\u001b[39;00m \u001b[38;5;167;01mValueError\u001b[39;00m(\u001b[38;5;124m\"\u001b[39m\u001b[38;5;124mn must be > 0: \u001b[39m\u001b[38;5;132;01m%r\u001b[39;00m\u001b[38;5;124m\"\u001b[39m \u001b[38;5;241m%\u001b[39m (n,))\n\u001b[0;32m    697\u001b[0m \u001b[38;5;28;01mif\u001b[39;00m \u001b[38;5;129;01mnot\u001b[39;00m \u001b[38;5;241m0.0\u001b[39m \u001b[38;5;241m<\u001b[39m\u001b[38;5;241m=\u001b[39m cutoff \u001b[38;5;241m<\u001b[39m\u001b[38;5;241m=\u001b[39m \u001b[38;5;241m1.0\u001b[39m:\n\u001b[1;32m--> 698\u001b[0m     \u001b[38;5;28;01mraise\u001b[39;00m \u001b[38;5;167;01mValueError\u001b[39;00m(\u001b[38;5;124m\"\u001b[39m\u001b[38;5;124mcutoff must be in [0.0, 1.0]: \u001b[39m\u001b[38;5;132;01m%r\u001b[39;00m\u001b[38;5;124m\"\u001b[39m \u001b[38;5;241m%\u001b[39m (cutoff,))\n\u001b[0;32m    699\u001b[0m result \u001b[38;5;241m=\u001b[39m []\n\u001b[0;32m    700\u001b[0m s \u001b[38;5;241m=\u001b[39m SequenceMatcher()\n",
      "\u001b[1;31mValueError\u001b[0m: cutoff must be in [0.0, 1.0]: 2"
     ]
    }
   ],
   "source": [
    "from difflib import get_close_matches\n",
    "\n",
    "# Sample list of strings\n",
    "words = [\"apple\", \"banana\", \"apricot\", \"pineapple\"]\n",
    "\n",
    "# Input string\n",
    "user_input = \"apple\"\n",
    "\n",
    "# Find the closest matches using Levenshtein distance (number of edits)\n",
    "similar_words = get_close_matches(user_input, # Input string \n",
    "                                  words, # List of strings to compare against\n",
    "                                  n=10, # Get top 10 closest matches\n",
    "                                  cutoff=2,\n",
    "                                  )  # Return all matches with distance <= 1\n",
    "\n",
    "# Print the most similar word\n",
    "if similar_words:\n",
    "    print(f\"Most similar word(s): {similar_words[0]}\")\n",
    "else:\n",
    "    print(\"No close matches found\")"
   ]
  },
  {
   "cell_type": "code",
   "execution_count": 20,
   "metadata": {},
   "outputs": [],
   "source": [
    "%pip uninstall fuzzywuzzy"
   ]
  },
  {
   "cell_type": "code",
   "execution_count": 2,
   "metadata": {},
   "outputs": [
    {
     "name": "stdout",
     "output_type": "stream",
     "text": [
      "String: hell, Distance: 1\n",
      "String: world, Distance: 4\n",
      "String: hellothere, Distance: 5\n"
     ]
    }
   ],
   "source": [
    "from Levenshtein import distance\n",
    "\n",
    "def compare_strings(string, list_of_strings):\n",
    "  \"\"\"\n",
    "  Compares a string against a list of strings using Levenshtein distance.\n",
    "\n",
    "  Args:\n",
    "    string: The string to compare.\n",
    "    list_of_strings: The list of strings to compare against.\n",
    "\n",
    "  Returns:\n",
    "    A list of tuples containing the string from the list and its Levenshtein distance to the input string.\n",
    "  \"\"\"\n",
    "  distances = []\n",
    "  for other_string in list_of_strings:\n",
    "    distance_val = distance(string, other_string)\n",
    "    distances.append((other_string, distance_val))\n",
    "  return distances\n",
    "\n",
    "# Example usage\n",
    "string = \"hello\"\n",
    "list_of_strings = [\"hell\", \"world\", \"hellothere\"]\n",
    "distances = compare_strings(string, list_of_strings)\n",
    "\n",
    "# Print the results\n",
    "for other_string, distance in distances:\n",
    "  print(f\"String: {other_string}, Distance: {distance}\")"
   ]
  },
  {
   "cell_type": "code",
   "execution_count": null,
   "metadata": {},
   "outputs": [],
   "source": []
  }
 ],
 "metadata": {
  "kernelspec": {
   "display_name": ".venv",
   "language": "python",
   "name": "python3"
  },
  "language_info": {
   "codemirror_mode": {
    "name": "ipython",
    "version": 3
   },
   "file_extension": ".py",
   "mimetype": "text/x-python",
   "name": "python",
   "nbconvert_exporter": "python",
   "pygments_lexer": "ipython3",
   "version": "3.12.4"
  }
 },
 "nbformat": 4,
 "nbformat_minor": 2
}
