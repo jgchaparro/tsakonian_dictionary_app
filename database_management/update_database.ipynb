{
 "cells": [
  {
   "cell_type": "markdown",
   "metadata": {},
   "source": [
    "# Database connection test"
   ]
  },
  {
   "cell_type": "markdown",
   "metadata": {},
   "source": [
    "# Preparation"
   ]
  },
  {
   "cell_type": "code",
   "execution_count": null,
   "metadata": {},
   "outputs": [],
   "source": [
    "# Imports\n",
    "import sqlite3\n",
    "import pandas as pd"
   ]
  },
  {
   "cell_type": "markdown",
   "metadata": {},
   "source": [
    "## Main connection"
   ]
  },
  {
   "cell_type": "code",
   "execution_count": null,
   "metadata": {},
   "outputs": [],
   "source": [
    "# Connect to main database\n",
    "db_path = '../TsakonianDB.sqlite3'\n",
    "conn = sqlite3.connect(db_path)"
   ]
  },
  {
   "cell_type": "markdown",
   "metadata": {},
   "source": [
    "## Auxiliary functions"
   ]
  },
  {
   "cell_type": "code",
   "execution_count": null,
   "metadata": {},
   "outputs": [],
   "source": [
    "def query(query: str,\n",
    "          cursor = conn.cursor()):\n",
    "\n",
    "      cursor.execute(query)\n",
    "      fetched = cursor.fetchall()\n",
    "\n",
    "      if len(fetched) > 0:\n",
    "            temp_df = pd.DataFrame(fetched, columns=[i[0] for i in cursor.description])\n",
    "            return temp_df\n",
    "      else:\n",
    "            print('Query executed successfully. No results to show.')"
   ]
  },
  {
   "cell_type": "markdown",
   "metadata": {},
   "source": [
    "# Add words from main dictionary to the database"
   ]
  },
  {
   "cell_type": "markdown",
   "metadata": {},
   "source": [
    "## Load dictionary"
   ]
  },
  {
   "cell_type": "code",
   "execution_count": null,
   "metadata": {},
   "outputs": [],
   "source": [
    "# Load main dictionary\n",
    "main_df_path = '../data/tables/main.xlsx'\n",
    "main_df = pd.read_excel(main_df_path)\n",
    "main_df"
   ]
  },
  {
   "cell_type": "markdown",
   "metadata": {},
   "source": [
    "## Manage duplicates"
   ]
  },
  {
   "cell_type": "code",
   "execution_count": null,
   "metadata": {},
   "outputs": [],
   "source": [
    "# Remove duplicates with the exact same information\n",
    "print(f'Entries before removing duplicates: {len(main_df)}')\n",
    "main_df = main_df.drop_duplicates()\n",
    "print(f'Entries after removing duplicates: {len(main_df)}')"
   ]
  },
  {
   "cell_type": "code",
   "execution_count": null,
   "metadata": {},
   "outputs": [],
   "source": [
    "# Show duplicates\n",
    "main_df[main_df.duplicated(subset = 'tsakonian', keep = False)].sort_values(by = 'tsakonian')"
   ]
  },
  {
   "cell_type": "code",
   "execution_count": null,
   "metadata": {},
   "outputs": [],
   "source": [
    "# Keep the Tsakonian-Greek duplicate with the lowest ID\n",
    "print(f'Entries before removing duplicates: {len(main_df)}')\n",
    "main_df = (main_df\n",
    "           .sort_index()\n",
    "           .drop_duplicates(subset = ['tsakonian', 'greek'], keep = 'first')\n",
    "           .sort_values(by = 'tsakonian')\n",
    "           .reset_index(drop = True)\n",
    "           )\n",
    "print(f'Entries after removing duplicates: {len(main_df)}')\n",
    "main_df"
   ]
  },
  {
   "cell_type": "markdown",
   "metadata": {},
   "source": [
    "## Save to main Excel"
   ]
  },
  {
   "cell_type": "code",
   "execution_count": null,
   "metadata": {},
   "outputs": [],
   "source": [
    "# Save main_df back to the Excel file\n",
    "main_df.to_excel(main_df_path, index = False)\n",
    "print('Changes consolidated.')"
   ]
  },
  {
   "cell_type": "markdown",
   "metadata": {},
   "source": [
    "## Merge paradigms table"
   ]
  },
  {
   "cell_type": "code",
   "execution_count": null,
   "metadata": {},
   "outputs": [],
   "source": [
    "# Read paradigms.xlsx\n",
    "paradigms_df_path = '../data/tables/paradigms.xlsx'\n",
    "paradigms_df = pd.read_excel(paradigms_df_path)\n",
    "paradigms_df.tail()"
   ]
  },
  {
   "cell_type": "code",
   "execution_count": null,
   "metadata": {},
   "outputs": [],
   "source": [
    "# Merge paradigms_df with main_df\n",
    "if 'notes' not in main_df.columns:\n",
    "      # Regular nouns\n",
    "      regular_mask = main_df['paradigm'].fillna('').str.contains('0') == False\n",
    "      regular_df = main_df[regular_mask].copy()\n",
    "      regular_df = regular_df.merge(paradigms_df, how = 'left', on = 'paradigm')\n",
    "\n",
    "      # Irregular nouns\n",
    "      irregular_mask = main_df['paradigm'].fillna('').str.contains('0')\n",
    "      irregular_df = main_df[irregular_mask].copy()\n",
    "      irregular_df = irregular_df.merge(paradigms_df.rename(columns = {'paradigm' : 'tsakonian'}), how = 'left', on = 'tsakonian')\n",
    "\n",
    "      # Concatenate\n",
    "      main_df = pd.concat([regular_df, irregular_df], axis = 0)\n",
    "      main_df = main_df.sort_values(by = 'tsakonian')     \n",
    "\n",
    "main_df.head()"
   ]
  },
  {
   "cell_type": "code",
   "execution_count": null,
   "metadata": {},
   "outputs": [],
   "source": [
    "main_df.to_sql('dictionary_entry', \n",
    "               conn, \n",
    "               if_exists='replace', \n",
    "               index=False,\n",
    "               dtype = {'tsakonian': 'varchar(50)',\n",
    "                        'greek': 'varchar(200)',\n",
    "                        'paradigm': 'varchar(5)',\n",
    "                        'source_id': 'bigint',\n",
    "                        'notes': 'varchar(30)',\n",
    "                        'gen_sing' : 'varchar(10)',\n",
    "                        'plur' : 'varchar(10)',\n",
    "               })"
   ]
  },
  {
   "cell_type": "code",
   "execution_count": null,
   "metadata": {},
   "outputs": [],
   "source": [
    "# Full old code"
   ]
  },
  {
   "cell_type": "code",
   "execution_count": null,
   "metadata": {},
   "outputs": [],
   "source": [
    "# Copy the full dictionary into the database\n",
    "# main_df.to_sql('dictionary_entry', \n",
    "#                conn, \n",
    "#                if_exists='replace', \n",
    "#                index=False,\n",
    "#                dtype = {'tsakonian': 'varchar(50)',\n",
    "#                         'greek': 'varchar(200)',\n",
    "#                         'paradigm': 'varchar(5)',\n",
    "#                         'source_id': 'bigint',\n",
    "#                         'notes': 'varchar(30)',\n",
    "#                         'gen_sing' : 'varchar(10)',\n",
    "#                         'plur' : 'varchar(10)',\n",
    "#                })\n",
    "\n",
    "# # Delete the temporary table if it exists\n",
    "# try:\n",
    "#     query(\"DROP TABLE sqlitestudio_temp_table;\")\n",
    "# except:\n",
    "#     pass\n",
    "\n",
    "# # Add primary keys and foreign keys by recreating the table\n",
    "# # Obtained from SQLiteStudio\n",
    "# recreating_query = \"\"\"PRAGMA foreign_keys = 0;\n",
    "\n",
    "# CREATE TABLE sqlitestudio_temp_table AS SELECT *\n",
    "#                                           FROM dictionary_entry;\n",
    "\n",
    "# DROP TABLE dictionary_entry;\n",
    "\n",
    "# CREATE TABLE dictionary_entry (\n",
    "#     id        INTEGER       PRIMARY KEY AUTOINCREMENT,\n",
    "#     tsakonian VARCHAR (50)  NOT NULL,\n",
    "#     greek     VARCHAR (200),\n",
    "#     paradigm  VARCHAR (5),\n",
    "#     source_id    INTEGER       REFERENCES dictionary_source (source_id),\n",
    "#     notes     VARCHAR (30),\n",
    "#     gen_sing  VARCHAR (10),\n",
    "#     plur      VARCHAR (10)\n",
    "\n",
    "# );\n",
    "\n",
    "# INSERT INTO dictionary_entry (\n",
    "#                                  tsakonian,\n",
    "#                                  greek,\n",
    "#                                  paradigm,\n",
    "#                                  source_id,\n",
    "#                                  notes,\n",
    "#                                  gen_sing,\n",
    "#                                  plur\n",
    "\n",
    "#                              )\n",
    "#                              SELECT tsakonian,\n",
    "#                                     greek,\n",
    "#                                     paradigm,\n",
    "#                                     source_id,\n",
    "#                                     notes,\n",
    "#                                     gen_sing,\n",
    "#                                     plur\n",
    "#                                FROM sqlitestudio_temp_table;\n",
    "\n",
    "# DROP TABLE sqlitestudio_temp_table;\n",
    "\n",
    "# PRAGMA foreign_keys = 1;\"\"\"\n",
    "\n",
    "# # Execute queries in a loop\n",
    "# # Only one query can be executed at a time\n",
    "# for q in recreating_query.split(';'):\n",
    "#       query(q)\n",
    "\n",
    "# # Save changes\n",
    "# conn.commit()"
   ]
  },
  {
   "cell_type": "markdown",
   "metadata": {},
   "source": [
    "# Update sources table"
   ]
  },
  {
   "cell_type": "code",
   "execution_count": null,
   "metadata": {},
   "outputs": [],
   "source": [
    "# Read sources.xlsx\n",
    "sources_df_path = '../data/tables/sources.xlsx'\n",
    "sources_df = pd.read_excel(sources_df_path)\n",
    "sources_df.head()"
   ]
  },
  {
   "cell_type": "code",
   "execution_count": null,
   "metadata": {},
   "outputs": [],
   "source": [
    "# Copy the sources into the database\n",
    "sources_df.to_sql('dictionary_source', \n",
    "                  conn, \n",
    "                  if_exists='replace', \n",
    "                  index=False,\n",
    "                  dtype = {'id': 'bigint',\n",
    "                           'source': 'varchar(100)',\n",
    "                           'author': 'varchar(100)',\n",
    "                           'year': 'varchar(10)',\n",
    "                           'notes': 'varchar(100)'\n",
    "                  })"
   ]
  },
  {
   "cell_type": "code",
   "execution_count": null,
   "metadata": {},
   "outputs": [],
   "source": [
    "# Copy the full sources table into the database\n",
    "sources_df.to_sql('dictionary_source', \n",
    "                  conn, \n",
    "                  if_exists='replace', \n",
    "                  index=False,\n",
    "                  dtype = {'id': 'bigint',\n",
    "                           'source': 'varchar(100)',\n",
    "                           'author': 'varchar(100)',\n",
    "                           'year': 'varchar(10)',\n",
    "                           'notes': 'varchar(100)'\n",
    "                  })\n",
    "\n",
    "# Delete the temporary table if it exists\n",
    "try:\n",
    "    query(\"DROP TABLE sqlitestudio_temp_table;\")\n",
    "except:\n",
    "    pass\n",
    "\n",
    "# Add primary keys and foreign keys by recreating the table\n",
    "# Obtained from SQLiteStudio\n",
    "recreating_query = \"\"\"PRAGMA foreign_keys = 0;\n",
    "\n",
    "CREATE TABLE sqlitestudio_temp_table AS SELECT *\n",
    "                                            FROM dictionary_source;\n",
    "\n",
    "DROP TABLE dictionary_source;\n",
    "\n",
    "CREATE TABLE dictionary_source (\n",
    "    source_id   INTEGER       PRIMARY KEY AUTOINCREMENT,\n",
    "    title       VARCHAR (300),\n",
    "    url         VARCHAR (200)\n",
    ");\n",
    "\n",
    "INSERT INTO dictionary_source (\n",
    "                                    source_id,\n",
    "                                    title,\n",
    "                                    url\n",
    "                                )\n",
    "                                SELECT source_id,\n",
    "                                         title,\n",
    "                                         url\n",
    "                                    FROM sqlitestudio_temp_table;\n",
    "\n",
    "DROP TABLE sqlitestudio_temp_table;\n",
    "\n",
    "PRAGMA foreign_keys = 1;\"\"\"\n",
    "\n",
    "# Execute queries in a loop\n",
    "# Only one query can be executed at a time\n",
    "for q in recreating_query.split(';'):\n",
    "      query(q)\n",
    "\n",
    "# Save changes\n",
    "conn.commit()"
   ]
  }
 ],
 "metadata": {
  "kernelspec": {
   "display_name": "tsakonian_env",
   "language": "python",
   "name": "python3"
  },
  "language_info": {
   "codemirror_mode": {
    "name": "ipython",
    "version": 3
   },
   "file_extension": ".py",
   "mimetype": "text/x-python",
   "name": "python",
   "nbconvert_exporter": "python",
   "pygments_lexer": "ipython3",
   "version": "3.10.9"
  },
  "orig_nbformat": 4
 },
 "nbformat": 4,
 "nbformat_minor": 2
}
