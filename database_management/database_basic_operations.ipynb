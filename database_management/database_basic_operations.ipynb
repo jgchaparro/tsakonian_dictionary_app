{
 "cells": [
  {
   "cell_type": "markdown",
   "metadata": {},
   "source": [
    "# Database connection test"
   ]
  },
  {
   "cell_type": "markdown",
   "metadata": {},
   "source": [
    "# Preparation"
   ]
  },
  {
   "cell_type": "code",
   "execution_count": 1,
   "metadata": {},
   "outputs": [],
   "source": [
    "# Imports\n",
    "import sqlite3\n",
    "import pandas as pd"
   ]
  },
  {
   "cell_type": "markdown",
   "metadata": {},
   "source": [
    "## Main connection"
   ]
  },
  {
   "cell_type": "code",
   "execution_count": 2,
   "metadata": {},
   "outputs": [],
   "source": [
    "# Connect to main database\n",
    "db_path = '../TsakonianDB.sqlite3'\n",
    "conn = sqlite3.connect(db_path)"
   ]
  },
  {
   "cell_type": "markdown",
   "metadata": {},
   "source": [
    "## Auxiliary functions"
   ]
  },
  {
   "cell_type": "code",
   "execution_count": 3,
   "metadata": {},
   "outputs": [],
   "source": [
    "def query(query: str,\n",
    "          cursor = conn.cursor()):\n",
    "\n",
    "      cursor.execute(query)\n",
    "      fetched = cursor.fetchall()\n",
    "\n",
    "      if len(fetched) > 0:\n",
    "            temp_df = pd.DataFrame(fetched, columns=[i[0] for i in cursor.description])\n",
    "            return temp_df\n",
    "      else:\n",
    "            print('Query executed successfully. No results to show.')"
   ]
  },
  {
   "cell_type": "code",
   "execution_count": 4,
   "metadata": {},
   "outputs": [
    {
     "name": "stdout",
     "output_type": "stream",
     "text": [
      "[('django_migrations',), ('sqlite_sequence',), ('auth_group_permissions',), ('auth_user_groups',), ('auth_user_user_permissions',), ('django_admin_log',), ('django_content_type',), ('auth_permission',), ('auth_group',), ('auth_user',), ('django_session',), ('dictionary_source',), ('dictionary_entry',)]\n"
     ]
    }
   ],
   "source": [
    "# See what tables are in the database\n",
    "cursor = conn.cursor()\n",
    "cursor.execute(\"SELECT name FROM sqlite_master WHERE type='table';\")\n",
    "print(cursor.fetchall())"
   ]
  },
  {
   "cell_type": "code",
   "execution_count": 5,
   "metadata": {},
   "outputs": [
    {
     "data": {
      "text/html": [
       "<div>\n",
       "<style scoped>\n",
       "    .dataframe tbody tr th:only-of-type {\n",
       "        vertical-align: middle;\n",
       "    }\n",
       "\n",
       "    .dataframe tbody tr th {\n",
       "        vertical-align: top;\n",
       "    }\n",
       "\n",
       "    .dataframe thead th {\n",
       "        text-align: right;\n",
       "    }\n",
       "</style>\n",
       "<table border=\"1\" class=\"dataframe\">\n",
       "  <thead>\n",
       "    <tr style=\"text-align: right;\">\n",
       "      <th></th>\n",
       "      <th>tsakonian</th>\n",
       "      <th>greek</th>\n",
       "      <th>paradigm</th>\n",
       "      <th>source_id</th>\n",
       "    </tr>\n",
       "  </thead>\n",
       "  <tbody>\n",
       "    <tr>\n",
       "      <th>0</th>\n",
       "      <td>α</td>\n",
       "      <td>η</td>\n",
       "      <td>None</td>\n",
       "      <td>1</td>\n",
       "    </tr>\n",
       "    <tr>\n",
       "      <th>1</th>\n",
       "      <td>αβαίνου</td>\n",
       "      <td>λαβαίνω</td>\n",
       "      <td>Ρ</td>\n",
       "      <td>1</td>\n",
       "    </tr>\n",
       "    <tr>\n",
       "      <th>2</th>\n",
       "      <td>αβζ̌ύντου</td>\n",
       "      <td>υποφέρω από δίψα, ουρλιάζω</td>\n",
       "      <td>Ρ</td>\n",
       "      <td>1</td>\n",
       "    </tr>\n",
       "    <tr>\n",
       "      <th>3</th>\n",
       "      <td>αβούκ̇ου</td>\n",
       "      <td>λαβώνω</td>\n",
       "      <td>Ρ</td>\n",
       "      <td>1</td>\n",
       "    </tr>\n",
       "    <tr>\n",
       "      <th>4</th>\n",
       "      <td>αβουτάνα</td>\n",
       "      <td>αυτί</td>\n",
       "      <td>Θ1</td>\n",
       "      <td>1</td>\n",
       "    </tr>\n",
       "    <tr>\n",
       "      <th>...</th>\n",
       "      <td>...</td>\n",
       "      <td>...</td>\n",
       "      <td>...</td>\n",
       "      <td>...</td>\n",
       "    </tr>\n",
       "    <tr>\n",
       "      <th>341</th>\n",
       "      <td>χιούρε</td>\n",
       "      <td>γουρούνι</td>\n",
       "      <td>Α1</td>\n",
       "      <td>1</td>\n",
       "    </tr>\n",
       "    <tr>\n",
       "      <th>342</th>\n",
       "      <td>ψαίνου</td>\n",
       "      <td>σφουγγίζω, σκουπίζω</td>\n",
       "      <td>Ρ</td>\n",
       "      <td>1</td>\n",
       "    </tr>\n",
       "    <tr>\n",
       "      <th>343</th>\n",
       "      <td>ψαφού</td>\n",
       "      <td>ψάχνω</td>\n",
       "      <td>Ρ</td>\n",
       "      <td>1</td>\n",
       "    </tr>\n",
       "    <tr>\n",
       "      <th>344</th>\n",
       "      <td>ψαχνίζου</td>\n",
       "      <td>στεγνώνω</td>\n",
       "      <td>Ρ</td>\n",
       "      <td>1</td>\n",
       "    </tr>\n",
       "    <tr>\n",
       "      <th>345</th>\n",
       "      <td>ψιλέ</td>\n",
       "      <td>μάτι</td>\n",
       "      <td>Α</td>\n",
       "      <td>1</td>\n",
       "    </tr>\n",
       "  </tbody>\n",
       "</table>\n",
       "<p>346 rows × 4 columns</p>\n",
       "</div>"
      ],
      "text/plain": [
       "     tsakonian                       greek paradigm  source_id\n",
       "0            α                           η     None          1\n",
       "1      αβαίνου                     λαβαίνω        Ρ          1\n",
       "2    αβζ̌ύντου  υποφέρω από δίψα, ουρλιάζω        Ρ          1\n",
       "3     αβούκ̇ου                      λαβώνω        Ρ          1\n",
       "4     αβουτάνα                        αυτί       Θ1          1\n",
       "..         ...                         ...      ...        ...\n",
       "341     χιούρε                    γουρούνι       Α1          1\n",
       "342     ψαίνου         σφουγγίζω, σκουπίζω        Ρ          1\n",
       "343      ψαφού                       ψάχνω        Ρ          1\n",
       "344   ψαχνίζου                    στεγνώνω        Ρ          1\n",
       "345       ψιλέ                        μάτι        Α          1\n",
       "\n",
       "[346 rows x 4 columns]"
      ]
     },
     "execution_count": 5,
     "metadata": {},
     "output_type": "execute_result"
    }
   ],
   "source": [
    "# See rows in the dictionary_entry table\n",
    "q = \"SELECT * FROM dictionary_entry;\"\n",
    "query(q)"
   ]
  },
  {
   "cell_type": "code",
   "execution_count": 6,
   "metadata": {},
   "outputs": [
    {
     "data": {
      "text/html": [
       "<div>\n",
       "<style scoped>\n",
       "    .dataframe tbody tr th:only-of-type {\n",
       "        vertical-align: middle;\n",
       "    }\n",
       "\n",
       "    .dataframe tbody tr th {\n",
       "        vertical-align: top;\n",
       "    }\n",
       "\n",
       "    .dataframe thead th {\n",
       "        text-align: right;\n",
       "    }\n",
       "</style>\n",
       "<table border=\"1\" class=\"dataframe\">\n",
       "  <thead>\n",
       "    <tr style=\"text-align: right;\">\n",
       "      <th></th>\n",
       "      <th>cid</th>\n",
       "      <th>name</th>\n",
       "      <th>type</th>\n",
       "      <th>notnull</th>\n",
       "      <th>dflt_value</th>\n",
       "      <th>pk</th>\n",
       "    </tr>\n",
       "  </thead>\n",
       "  <tbody>\n",
       "    <tr>\n",
       "      <th>0</th>\n",
       "      <td>0</td>\n",
       "      <td>tsakonian</td>\n",
       "      <td>VARCHAR (50)</td>\n",
       "      <td>1</td>\n",
       "      <td>None</td>\n",
       "      <td>1</td>\n",
       "    </tr>\n",
       "    <tr>\n",
       "      <th>1</th>\n",
       "      <td>1</td>\n",
       "      <td>greek</td>\n",
       "      <td>VARCHAR (200)</td>\n",
       "      <td>0</td>\n",
       "      <td>None</td>\n",
       "      <td>0</td>\n",
       "    </tr>\n",
       "    <tr>\n",
       "      <th>2</th>\n",
       "      <td>2</td>\n",
       "      <td>paradigm</td>\n",
       "      <td>VARCHAR (5)</td>\n",
       "      <td>0</td>\n",
       "      <td>None</td>\n",
       "      <td>0</td>\n",
       "    </tr>\n",
       "    <tr>\n",
       "      <th>3</th>\n",
       "      <td>3</td>\n",
       "      <td>source_id</td>\n",
       "      <td>INTEGER</td>\n",
       "      <td>0</td>\n",
       "      <td>None</td>\n",
       "      <td>0</td>\n",
       "    </tr>\n",
       "  </tbody>\n",
       "</table>\n",
       "</div>"
      ],
      "text/plain": [
       "   cid       name           type  notnull dflt_value  pk\n",
       "0    0  tsakonian   VARCHAR (50)        1       None   1\n",
       "1    1      greek  VARCHAR (200)        0       None   0\n",
       "2    2   paradigm    VARCHAR (5)        0       None   0\n",
       "3    3  source_id        INTEGER        0       None   0"
      ]
     },
     "execution_count": 6,
     "metadata": {},
     "output_type": "execute_result"
    }
   ],
   "source": [
    "# Show the columns in the dictionary_entry table\n",
    "q = \"PRAGMA table_info(dictionary_entry);\"\n",
    "query(q)"
   ]
  },
  {
   "cell_type": "markdown",
   "metadata": {},
   "source": [
    "## Rows"
   ]
  },
  {
   "cell_type": "code",
   "execution_count": 7,
   "metadata": {},
   "outputs": [
    {
     "ename": "OperationalError",
     "evalue": "table dictionary_entry has no column named source_id_id",
     "output_type": "error",
     "traceback": [
      "\u001b[1;31m---------------------------------------------------------------------------\u001b[0m",
      "\u001b[1;31mOperationalError\u001b[0m                          Traceback (most recent call last)",
      "\u001b[1;32mc:\\Users\\jgcha\\Desktop\\Python\\Códigos\\Tsakonian tools\\app\\database_management\\connect_to_db.ipynb Cell 12\u001b[0m line \u001b[0;36m3\n\u001b[0;32m      <a href='vscode-notebook-cell:/c%3A/Users/jgcha/Desktop/Python/C%C3%B3digos/Tsakonian%20tools/app/database_management/connect_to_db.ipynb#X14sZmlsZQ%3D%3D?line=0'>1</a>\u001b[0m \u001b[39m# Insert a row into the dictionary_entry table\u001b[39;00m\n\u001b[0;32m      <a href='vscode-notebook-cell:/c%3A/Users/jgcha/Desktop/Python/C%C3%B3digos/Tsakonian%20tools/app/database_management/connect_to_db.ipynb#X14sZmlsZQ%3D%3D?line=1'>2</a>\u001b[0m q \u001b[39m=\u001b[39m \u001b[39m\"\u001b[39m\u001b[39mINSERT INTO dictionary_entry (tsakonian, greek, paradigm, source_id_id) VALUES (\u001b[39m\u001b[39m'\u001b[39m\u001b[39mtest\u001b[39m\u001b[39m'\u001b[39m\u001b[39m, \u001b[39m\u001b[39m'\u001b[39m\u001b[39mthis is a test\u001b[39m\u001b[39m'\u001b[39m\u001b[39m, \u001b[39m\u001b[39m'\u001b[39m\u001b[39mZZ\u001b[39m\u001b[39m'\u001b[39m\u001b[39m, 1);\u001b[39m\u001b[39m\"\u001b[39m\n\u001b[1;32m----> <a href='vscode-notebook-cell:/c%3A/Users/jgcha/Desktop/Python/C%C3%B3digos/Tsakonian%20tools/app/database_management/connect_to_db.ipynb#X14sZmlsZQ%3D%3D?line=2'>3</a>\u001b[0m query(q)\n",
      "\u001b[1;32mc:\\Users\\jgcha\\Desktop\\Python\\Códigos\\Tsakonian tools\\app\\database_management\\connect_to_db.ipynb Cell 12\u001b[0m line \u001b[0;36m4\n\u001b[0;32m      <a href='vscode-notebook-cell:/c%3A/Users/jgcha/Desktop/Python/C%C3%B3digos/Tsakonian%20tools/app/database_management/connect_to_db.ipynb#X14sZmlsZQ%3D%3D?line=0'>1</a>\u001b[0m \u001b[39mdef\u001b[39;00m \u001b[39mquery\u001b[39m(query: \u001b[39mstr\u001b[39m,\n\u001b[0;32m      <a href='vscode-notebook-cell:/c%3A/Users/jgcha/Desktop/Python/C%C3%B3digos/Tsakonian%20tools/app/database_management/connect_to_db.ipynb#X14sZmlsZQ%3D%3D?line=1'>2</a>\u001b[0m           cursor \u001b[39m=\u001b[39m conn\u001b[39m.\u001b[39mcursor()):\n\u001b[1;32m----> <a href='vscode-notebook-cell:/c%3A/Users/jgcha/Desktop/Python/C%C3%B3digos/Tsakonian%20tools/app/database_management/connect_to_db.ipynb#X14sZmlsZQ%3D%3D?line=3'>4</a>\u001b[0m       cursor\u001b[39m.\u001b[39;49mexecute(query)\n\u001b[0;32m      <a href='vscode-notebook-cell:/c%3A/Users/jgcha/Desktop/Python/C%C3%B3digos/Tsakonian%20tools/app/database_management/connect_to_db.ipynb#X14sZmlsZQ%3D%3D?line=4'>5</a>\u001b[0m       fetched \u001b[39m=\u001b[39m cursor\u001b[39m.\u001b[39mfetchall()\n\u001b[0;32m      <a href='vscode-notebook-cell:/c%3A/Users/jgcha/Desktop/Python/C%C3%B3digos/Tsakonian%20tools/app/database_management/connect_to_db.ipynb#X14sZmlsZQ%3D%3D?line=6'>7</a>\u001b[0m       \u001b[39mif\u001b[39;00m \u001b[39mlen\u001b[39m(fetched) \u001b[39m>\u001b[39m \u001b[39m0\u001b[39m:\n",
      "\u001b[1;31mOperationalError\u001b[0m: table dictionary_entry has no column named source_id_id"
     ]
    }
   ],
   "source": [
    "# Insert a row into the dictionary_entry table\n",
    "q = \"INSERT INTO dictionary_entry (tsakonian, greek, paradigm, source_id_id) VALUES ('test', 'this is a test', 'ZZ', 1);\"\n",
    "query(q)"
   ]
  },
  {
   "cell_type": "code",
   "execution_count": null,
   "metadata": {},
   "outputs": [
    {
     "name": "stdout",
     "output_type": "stream",
     "text": [
      "Query executed successfully. No results to show.\n"
     ]
    }
   ],
   "source": [
    "# Delete the row with ID 4\n",
    "q = \"DELETE FROM dictionary_entry WHERE id = 4;\"\n",
    "query(q)"
   ]
  },
  {
   "cell_type": "markdown",
   "metadata": {},
   "source": [
    "## Columns"
   ]
  },
  {
   "cell_type": "code",
   "execution_count": 51,
   "metadata": {},
   "outputs": [
    {
     "name": "stdout",
     "output_type": "stream",
     "text": [
      "Query executed successfully. No results to show.\n"
     ]
    }
   ],
   "source": [
    "# Rename columns in the dictionary_entry table\n",
    "q = \"ALTER TABLE dictionary_entry RENAME COLUMN source_id_id TO a;\"\n",
    "query(q)"
   ]
  },
  {
   "cell_type": "code",
   "execution_count": 43,
   "metadata": {},
   "outputs": [
    {
     "name": "stdout",
     "output_type": "stream",
     "text": [
      "Query executed successfully. No results to show.\n"
     ]
    }
   ],
   "source": [
    "# Create a new column in the dictionary_entry table\n",
    "q = \"ALTER TABLE dictionary_entry ADD COLUMN paradigm varchar(5);\"\n",
    "query(q)"
   ]
  },
  {
   "cell_type": "code",
   "execution_count": 31,
   "metadata": {},
   "outputs": [
    {
     "name": "stdout",
     "output_type": "stream",
     "text": [
      "Query executed successfully. No results to show.\n"
     ]
    }
   ],
   "source": [
    "# Copy the paradigm column to the new paradigm_text column\n",
    "q = \"UPDATE dictionary_entry SET source_id = source_id_id;\"\n",
    "query(q)"
   ]
  },
  {
   "cell_type": "code",
   "execution_count": 61,
   "metadata": {},
   "outputs": [
    {
     "name": "stdout",
     "output_type": "stream",
     "text": [
      "Query executed successfully. No results to show.\n"
     ]
    }
   ],
   "source": [
    "# Create a source_id columns that is a foreign key to the source table but can be null\n",
    "q = \"ALTER TABLE dictionary_entry ADD COLUMN source_id bigint REFERENCES source(id);\"\n",
    "query(q)"
   ]
  },
  {
   "cell_type": "code",
   "execution_count": 59,
   "metadata": {},
   "outputs": [
    {
     "name": "stdout",
     "output_type": "stream",
     "text": [
      "Query executed successfully. No results to show.\n"
     ]
    }
   ],
   "source": [
    "# Drop a column\n",
    "q = \"ALTER TABLE dictionary_entry DROP COLUMN paradigm_text;\"\n",
    "query(q)"
   ]
  },
  {
   "cell_type": "code",
   "execution_count": 63,
   "metadata": {},
   "outputs": [
    {
     "ename": "OperationalError",
     "evalue": "near \"MODIFY\": syntax error",
     "output_type": "error",
     "traceback": [
      "\u001b[1;31m---------------------------------------------------------------------------\u001b[0m",
      "\u001b[1;31mOperationalError\u001b[0m                          Traceback (most recent call last)",
      "\u001b[1;32mc:\\Users\\jgcha\\Desktop\\Python\\Códigos\\Tsakonian tools\\TsakonianDict\\database_management\\connect_to_db.ipynb Cell 20\u001b[0m line \u001b[0;36m3\n\u001b[0;32m      <a href='vscode-notebook-cell:/c%3A/Users/jgcha/Desktop/Python/C%C3%B3digos/Tsakonian%20tools/TsakonianDict/database_management/connect_to_db.ipynb#X44sZmlsZQ%3D%3D?line=0'>1</a>\u001b[0m \u001b[39m# Alter column order\u001b[39;00m\n\u001b[0;32m      <a href='vscode-notebook-cell:/c%3A/Users/jgcha/Desktop/Python/C%C3%B3digos/Tsakonian%20tools/TsakonianDict/database_management/connect_to_db.ipynb#X44sZmlsZQ%3D%3D?line=1'>2</a>\u001b[0m q \u001b[39m=\u001b[39m \u001b[39m\"\u001b[39m\u001b[39mALTER TABLE dictionary_entry MODIFY COLUMN paradigm varchar(5) AFTER tsakonian;\u001b[39m\u001b[39m\"\u001b[39m\n\u001b[1;32m----> <a href='vscode-notebook-cell:/c%3A/Users/jgcha/Desktop/Python/C%C3%B3digos/Tsakonian%20tools/TsakonianDict/database_management/connect_to_db.ipynb#X44sZmlsZQ%3D%3D?line=2'>3</a>\u001b[0m query(q)\n",
      "\u001b[1;32mc:\\Users\\jgcha\\Desktop\\Python\\Códigos\\Tsakonian tools\\TsakonianDict\\database_management\\connect_to_db.ipynb Cell 20\u001b[0m line \u001b[0;36m4\n\u001b[0;32m      <a href='vscode-notebook-cell:/c%3A/Users/jgcha/Desktop/Python/C%C3%B3digos/Tsakonian%20tools/TsakonianDict/database_management/connect_to_db.ipynb#X44sZmlsZQ%3D%3D?line=0'>1</a>\u001b[0m \u001b[39mdef\u001b[39;00m \u001b[39mquery\u001b[39m(query: \u001b[39mstr\u001b[39m,\n\u001b[0;32m      <a href='vscode-notebook-cell:/c%3A/Users/jgcha/Desktop/Python/C%C3%B3digos/Tsakonian%20tools/TsakonianDict/database_management/connect_to_db.ipynb#X44sZmlsZQ%3D%3D?line=1'>2</a>\u001b[0m           cursor \u001b[39m=\u001b[39m conn\u001b[39m.\u001b[39mcursor()):\n\u001b[1;32m----> <a href='vscode-notebook-cell:/c%3A/Users/jgcha/Desktop/Python/C%C3%B3digos/Tsakonian%20tools/TsakonianDict/database_management/connect_to_db.ipynb#X44sZmlsZQ%3D%3D?line=3'>4</a>\u001b[0m       cursor\u001b[39m.\u001b[39;49mexecute(query)\n\u001b[0;32m      <a href='vscode-notebook-cell:/c%3A/Users/jgcha/Desktop/Python/C%C3%B3digos/Tsakonian%20tools/TsakonianDict/database_management/connect_to_db.ipynb#X44sZmlsZQ%3D%3D?line=4'>5</a>\u001b[0m       fetched \u001b[39m=\u001b[39m cursor\u001b[39m.\u001b[39mfetchall()\n\u001b[0;32m      <a href='vscode-notebook-cell:/c%3A/Users/jgcha/Desktop/Python/C%C3%B3digos/Tsakonian%20tools/TsakonianDict/database_management/connect_to_db.ipynb#X44sZmlsZQ%3D%3D?line=6'>7</a>\u001b[0m       \u001b[39mif\u001b[39;00m \u001b[39mlen\u001b[39m(fetched) \u001b[39m>\u001b[39m \u001b[39m0\u001b[39m:\n",
      "\u001b[1;31mOperationalError\u001b[0m: near \"MODIFY\": syntax error"
     ]
    }
   ],
   "source": [
    "# Alter column order\n",
    "q = \"ALTER TABLE dictionary_entry MODIFY COLUMN paradigm varchar(5) AFTER tsakonian;\"\n",
    "query(q)"
   ]
  }
 ],
 "metadata": {
  "kernelspec": {
   "display_name": "tsakonian_env",
   "language": "python",
   "name": "python3"
  },
  "language_info": {
   "codemirror_mode": {
    "name": "ipython",
    "version": 3
   },
   "file_extension": ".py",
   "mimetype": "text/x-python",
   "name": "python",
   "nbconvert_exporter": "python",
   "pygments_lexer": "ipython3",
   "version": "3.10.9"
  },
  "orig_nbformat": 4
 },
 "nbformat": 4,
 "nbformat_minor": 2
}
