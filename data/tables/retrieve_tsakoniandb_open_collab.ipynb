{
 "cells": [
  {
   "cell_type": "markdown",
   "metadata": {},
   "source": [
    "# Retrieving TsakonianDB open collab data"
   ]
  },
  {
   "cell_type": "markdown",
   "metadata": {},
   "source": [
    "**Instructions**:\n",
    "\n",
    "* Run the code as-is"
   ]
  },
  {
   "cell_type": "markdown",
   "metadata": {},
   "source": [
    "# Preparation"
   ]
  },
  {
   "cell_type": "markdown",
   "metadata": {
    "vscode": {
     "languageId": "plaintext"
    }
   },
   "source": [
    "## Imports"
   ]
  },
  {
   "cell_type": "code",
   "execution_count": 1,
   "metadata": {},
   "outputs": [],
   "source": [
    "import pandas as pd\n",
    "import os\n",
    "import requests\n",
    "import sys\n",
    "from openpyxl import load_workbook"
   ]
  },
  {
   "cell_type": "markdown",
   "metadata": {},
   "source": [
    "## Settings"
   ]
  },
  {
   "cell_type": "code",
   "execution_count": 2,
   "metadata": {},
   "outputs": [],
   "source": [
    "url = 'https://docs.google.com/spreadsheets/d/1V-gINk8gkz-anNDk5hNN778r0Qgo-uwrQ7cE74i_zVg/export?format=xlsx'"
   ]
  },
  {
   "cell_type": "markdown",
   "metadata": {},
   "source": [
    "# Download"
   ]
  },
  {
   "cell_type": "code",
   "execution_count": 3,
   "metadata": {},
   "outputs": [
    {
     "name": "stdout",
     "output_type": "stream",
     "text": [
      "CSV file saved to TsakonianDB - Open collab.xlsx\n"
     ]
    }
   ],
   "source": [
    "response = requests.get(url)\n",
    "if response.status_code == 200:\n",
    "    filename = 'TsakonianDB - Open collab.xlsx'\n",
    "    with open(filename, 'wb') as f:\n",
    "        f.write(response.content)\n",
    "        print(f'CSV file saved to {filename}')\n",
    "else:\n",
    "    print(f'Error downloading Google Sheet: {response.status_code}')\n",
    "    sys.exit(1) "
   ]
  },
  {
   "cell_type": "markdown",
   "metadata": {},
   "source": [
    "# Extract tables from the Excel file"
   ]
  },
  {
   "cell_type": "code",
   "execution_count": 6,
   "metadata": {},
   "outputs": [
    {
     "name": "stdout",
     "output_type": "stream",
     "text": [
      "Sheet names: ['Main', 'Nouns', 'Verbs', 'Adjectives', 'Sources', 'Orthographies']\n"
     ]
    }
   ],
   "source": [
    "# Extract sheet names\n",
    "wb = load_workbook(filename)\n",
    "sheet_names = wb.sheetnames\n",
    "print(f'Sheet names: {sheet_names}')"
   ]
  },
  {
   "cell_type": "code",
   "execution_count": 7,
   "metadata": {},
   "outputs": [
    {
     "name": "stdout",
     "output_type": "stream",
     "text": [
      "Saved Main.xlsx\n",
      "Saved Nouns.xlsx\n",
      "Saved Verbs.xlsx\n",
      "Saved Adjectives.xlsx\n",
      "Saved Sources.xlsx\n",
      "Saved Orthographies.xlsx\n"
     ]
    }
   ],
   "source": [
    "# Save each sheet as an Excel file\n",
    "for sheet_name in sheet_names:\n",
    "    df = pd.read_excel(filename, sheet_name=sheet_name)\n",
    "    df.to_excel(f'{sheet_name}.xlsx', index=False)\n",
    "    print(f'Saved {sheet_name}.xlsx')"
   ]
  }
 ],
 "metadata": {
  "kernelspec": {
   "display_name": ".venv",
   "language": "python",
   "name": "python3"
  },
  "language_info": {
   "codemirror_mode": {
    "name": "ipython",
    "version": 3
   },
   "file_extension": ".py",
   "mimetype": "text/x-python",
   "name": "python",
   "nbconvert_exporter": "python",
   "pygments_lexer": "ipython3",
   "version": "3.12.4"
  }
 },
 "nbformat": 4,
 "nbformat_minor": 2
}
